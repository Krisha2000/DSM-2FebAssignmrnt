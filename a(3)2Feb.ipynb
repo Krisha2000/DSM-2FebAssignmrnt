{
 "cells": [
  {
   "cell_type": "markdown",
   "id": "e7d00fbd-f653-49e4-b5fd-80626e4f3b8c",
   "metadata": {},
   "source": [
    "# Quetion:- 1"
   ]
  },
  {
   "cell_type": "markdown",
   "id": "eb5d470d-1c02-4278-81f7-e6508880a51c",
   "metadata": {},
   "source": [
    "### These tuples are an ordered collection of elements of different data types. Furthermore, we represent them by writing the elements inside the parenthesis separated by commas. We can also define tuples as lists that we cannot change. \n",
    "### Therefore, we can call them immutable tuples."
   ]
  },
  {
   "cell_type": "markdown",
   "id": "46c91cd2-11b8-4cd5-b4cb-c1292acd6a2b",
   "metadata": {},
   "source": [
    "# Quetion:- 2"
   ]
  },
  {
   "cell_type": "markdown",
   "id": "d7694a4f-9863-47e4-b048-4e486bb27835",
   "metadata": {},
   "source": [
    "### There are only two tuple methods count() and index() that a tuple object can call."
   ]
  },
  {
   "cell_type": "markdown",
   "id": "5f74373f-7e4e-41d6-af19-9c853d0d1f3c",
   "metadata": {},
   "source": [
    "#### Examples"
   ]
  },
  {
   "cell_type": "code",
   "execution_count": 14,
   "id": "b7a98fa7-de7d-477a-b796-783d28ab361e",
   "metadata": {},
   "outputs": [
    {
     "name": "stdout",
     "output_type": "stream",
     "text": [
      "In Tuple 'a' exist 3 times.\n",
      "In Tuple '2' exist 2 times.\n",
      "\n",
      "\n",
      "In tuple 'a' is in 4 position with index nomber 3.\n",
      "In tuple 'hello' is in 5 position with index nomber 4.\n"
     ]
    }
   ],
   "source": [
    "Tuple=(1,2,3,'a',\"hello\",'a','a',2,4)\n",
    "\n",
    "#count\n",
    "print(f\"In Tuple 'a' exist {Tuple.count('a')} times.\")\n",
    "print(f\"In Tuple '2' exist {Tuple.count(2)} times.\")\n",
    "\n",
    "print(\"\\n\")\n",
    "\n",
    "\n",
    "#index\n",
    "print(f\"In tuple 'a' is in {(Tuple.index('a'))+1} position with index nomber {Tuple.index('a')}.\")\n",
    "print(f\"In tuple 'hello' is in {(Tuple.index('hello'))+1} position with index nomber {Tuple.index('hello')}.\")"
   ]
  },
  {
   "cell_type": "markdown",
   "id": "201ad288-8980-4493-9da0-6adef02e854b",
   "metadata": {},
   "source": [
    "### tuples are immutable therefore other function can not perform on it ."
   ]
  },
  {
   "cell_type": "markdown",
   "id": "dc00c2df-57a7-4fc3-8a16-7081703ebfc7",
   "metadata": {},
   "source": [
    "# Quetion:-3"
   ]
  },
  {
   "cell_type": "markdown",
   "id": "2fb1401b-f06a-48b3-9bd3-33154233438f",
   "metadata": {},
   "source": [
    "### Sets are a collection that is unordered and unindexed. They are mutable (changeable) but do not allow duplicate values to be held."
   ]
  },
  {
   "cell_type": "code",
   "execution_count": 17,
   "id": "3b718f6d-a7a1-47d7-ae63-b801f7cbcc2b",
   "metadata": {},
   "outputs": [
    {
     "name": "stdout",
     "output_type": "stream",
     "text": [
      "{1, 2, 3, 4}\n"
     ]
    }
   ],
   "source": [
    "List = [1, 1, 1, 2, 1, 3, 1, 4, 2, 1, 2, 2, 2, 3, 2, 4, 3, 1, 3, 2, 3, 3, 3, 4, 4, 1, 4, 2, 4, 3, 4, 4] \n",
    "s=set(List)\n",
    "print(s)"
   ]
  },
  {
   "cell_type": "markdown",
   "id": "2844ed13-7984-4e04-8af6-799ee407b5dd",
   "metadata": {},
   "source": [
    "# Quetion:-4"
   ]
  },
  {
   "cell_type": "markdown",
   "id": "daee28e4-6919-4679-a804-7f327a1c92eb",
   "metadata": {},
   "source": [
    "### update() adds all missing elements to the set on which it is called whereas set. \n",
    "### union() creates a new set"
   ]
  },
  {
   "cell_type": "markdown",
   "id": "7040bfcc-3fa5-4bf6-917f-76c52dc3f661",
   "metadata": {},
   "source": [
    "#### Exaple"
   ]
  },
  {
   "cell_type": "code",
   "execution_count": 25,
   "id": "63e943db-3885-4b4d-9364-6ebd777d0f3c",
   "metadata": {},
   "outputs": [
    {
     "name": "stdout",
     "output_type": "stream",
     "text": [
      "{1, 2, 3, 'krisha', 'a', (2+3j)}\n"
     ]
    }
   ],
   "source": [
    "s1={1,2,3,\"krisha\",'a',2+3j}\n",
    "s1.union('b')\n",
    "print(s1)"
   ]
  },
  {
   "cell_type": "code",
   "execution_count": 26,
   "id": "b3c09091-e6e7-4a9d-989b-123d2f090847",
   "metadata": {},
   "outputs": [
    {
     "name": "stdout",
     "output_type": "stream",
     "text": [
      "{1, 2, 3, 'krisha', 'b', 'a', (2+3j), 'c'}\n"
     ]
    }
   ],
   "source": [
    "s1.update('b','c')\n",
    "print(s1)"
   ]
  },
  {
   "cell_type": "markdown",
   "id": "b5b4facb-4590-4467-a26e-85936840b4cb",
   "metadata": {},
   "source": [
    "# Quetion:-5"
   ]
  },
  {
   "cell_type": "markdown",
   "id": "2b54c565-48ac-453c-9201-9a13266075e3",
   "metadata": {},
   "source": [
    "### Dictionaries are used to store data values in key:value pairs."
   ]
  },
  {
   "cell_type": "markdown",
   "id": "2e908c97-d3c9-4bcc-9c61-2cf45b936e36",
   "metadata": {},
   "source": [
    "#### Example"
   ]
  },
  {
   "cell_type": "code",
   "execution_count": 28,
   "id": "b622c878-8e7f-4b11-bbd4-a7e470338ec0",
   "metadata": {},
   "outputs": [
    {
     "name": "stdout",
     "output_type": "stream",
     "text": [
      "{'Nepal': 'Kathmandu', 'Italy': 'Rome', 'England': 'London'}\n"
     ]
    }
   ],
   "source": [
    "capital_city = {\"Nepal\": \"Kathmandu\", \"Italy\": \"Rome\", \"England\": \"London\"}\n",
    "print(capital_city)"
   ]
  },
  {
   "cell_type": "markdown",
   "id": "03b1482d-fb3a-4429-93b9-113c56178848",
   "metadata": {},
   "source": [
    "#### Dictionary is an unordered collection"
   ]
  },
  {
   "cell_type": "markdown",
   "id": "e2f0a2d1-fff6-44f1-8e25-900a7477eb69",
   "metadata": {},
   "source": [
    "# Quetion:-6"
   ]
  },
  {
   "cell_type": "markdown",
   "id": "19309131-e0d0-470c-a3c2-8940424c78c0",
   "metadata": {},
   "source": [
    "#### In Python, a Nested dictionary can be created"
   ]
  },
  {
   "cell_type": "markdown",
   "id": "6812b6f7-2eea-41e8-8a07-921f69d9e8e3",
   "metadata": {},
   "source": [
    "#### Exaple:"
   ]
  },
  {
   "cell_type": "code",
   "execution_count": 31,
   "id": "0bd43a4d-f292-413f-bcaf-6b061e7e25c7",
   "metadata": {},
   "outputs": [],
   "source": [
    "D = dict(emp1 = {'name': 'Bob', 'job': 'Mgr'},\n",
    "         emp2 = {'name': 'Kim', 'job': 'Dev'},\n",
    "         emp3 = {'name': 'Sam', 'job': 'Dev'})"
   ]
  },
  {
   "cell_type": "markdown",
   "id": "e3e03c74-77df-4612-b925-029a8b096515",
   "metadata": {},
   "source": [
    "# Quetion:-7"
   ]
  },
  {
   "cell_type": "code",
   "execution_count": 50,
   "id": "3622e7dc-2f00-4da1-a9f7-95259d912411",
   "metadata": {},
   "outputs": [
    {
     "name": "stdout",
     "output_type": "stream",
     "text": [
      "{'language': 'Python', 'course': 'Data Science Masters'} \n",
      "\n",
      "{'language': 'Python', 'course': 'Data Science Masters', 'topics': ['Python', 'Machine Learning', 'Deep Learning']}\n"
     ]
    }
   ],
   "source": [
    "dict1 = {'language' : 'Python', 'course': 'Data Science Masters'}\n",
    "print(dict1,\"\\n\")\n",
    "dict1.setdefault(\"topics\",[\"Python\",\"Machine Learning\",\"Deep Learning\"]) \n",
    "print(dict1)"
   ]
  },
  {
   "cell_type": "markdown",
   "id": "154d74c7-94c3-473a-9e0b-43da5f1884fa",
   "metadata": {},
   "source": [
    "# Quetion:-8"
   ]
  },
  {
   "cell_type": "markdown",
   "id": "4d8faf03-068f-4eb8-94ee-f7f09442aec9",
   "metadata": {},
   "source": [
    "### The main view objects of dictionary in python are keys, values and items"
   ]
  },
  {
   "cell_type": "code",
   "execution_count": null,
   "id": "e6d059c1-20af-4d68-a4ba-63e7d1064ea7",
   "metadata": {},
   "outputs": [],
   "source": [
    "dict1 = {'Sport': 'Cricket' , 'Teams': ['India', 'Australia', 'England', 'South Africa', 'Sri Lanka', 'New Zealand']} \n",
    "print(\"Keys : \",\"\\n\")\n",
    "print(dict1.keys())\n",
    "print(\"values : \",\"\\n\")\n",
    "print(dict1.values())\n",
    "print(\"items : \",\"\\n\")\n",
    "print(dict1.items())"
   ]
  },
  {
   "cell_type": "code",
   "execution_count": null,
   "id": "78abab1d-1e50-4639-aeb2-45d9252589c6",
   "metadata": {},
   "outputs": [],
   "source": []
  }
 ],
 "metadata": {
  "kernelspec": {
   "display_name": "Python 3 (ipykernel)",
   "language": "python",
   "name": "python3"
  },
  "language_info": {
   "codemirror_mode": {
    "name": "ipython",
    "version": 3
   },
   "file_extension": ".py",
   "mimetype": "text/x-python",
   "name": "python",
   "nbconvert_exporter": "python",
   "pygments_lexer": "ipython3",
   "version": "3.10.8"
  }
 },
 "nbformat": 4,
 "nbformat_minor": 5
}
